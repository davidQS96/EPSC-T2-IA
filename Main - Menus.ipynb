{
  "nbformat": 4,
  "nbformat_minor": 0,
  "metadata": {
    "colab": {
      "name": "Tarea_2_IA.ipynb",
      "provenance": []
    },
    "kernelspec": {
      "name": "python3",
      "display_name": "Python 3"
    }
  },
  "cells": [
    {
      "cell_type": "markdown",
      "metadata": {
        "id": "AeFtkcFI-l2e"
      },
      "source": [
        "Librerías"
      ]
    },
    {
      "cell_type": "code",
      "metadata": {
        "id": "lsdRjCJ7-UcT"
      },
      "source": [
        "import os\n",
        "import matplotlib.pyplot as pyplot\n",
        "import numpy as np\n",
        "import pandas as pd"
      ],
      "execution_count": null,
      "outputs": []
    },
    {
      "cell_type": "markdown",
      "metadata": {
        "id": "1TDMdTqu-o5B"
      },
      "source": [
        "Acceso a los CSV del Usuario\n",
        "\n"
      ]
    },
    {
      "cell_type": "code",
      "metadata": {
        "id": "Ie868eme-k9D",
        "outputId": "0f0e03f2-0272-4350-e62a-66d34b850d66",
        "colab": {
          "base_uri": "https://localhost:8080/",
          "height": 51
        }
      },
      "source": [
        "# Load the Drive helper and mount\n",
        "from google.colab import drive\n",
        "\n",
        "# Mount the drive folder. This will prompt for authorization.\n",
        "drive.mount('/content/drive', force_remount=True)\n",
        "\n",
        "\n",
        "# Opens the project folder. IMPORTANT: Change to your route\n",
        "%cd 'drive/My Drive/T_2_IA_22020'"
      ],
      "execution_count": null,
      "outputs": [
        {
          "output_type": "stream",
          "text": [
            "Mounted at /content/drive\n",
            "/content/drive/My Drive/T_2_IA_22020\n"
          ],
          "name": "stdout"
        }
      ]
    },
    {
      "cell_type": "markdown",
      "metadata": {
        "id": "vKJbWH9eX2fa"
      },
      "source": [
        "Obtención de Matrices CSV to arrays, Carga del Set de datos y selección de los valores porcentuales de Train y Test"
      ]
    },
    {
      "cell_type": "code",
      "metadata": {
        "id": "UbrMyLU_AQx5",
        "outputId": "34fd495f-b2ab-4f3c-fe07-53b874aeecc1",
        "colab": {
          "base_uri": "https://localhost:8080/",
          "height": 238
        }
      },
      "source": [
        "#Lectura del dataset cargado por el usuario\n",
        "\n",
        "print(\"Seleccione el set de Datos:\")\n",
        "print(\"1. Airfoil\")\n",
        "print(\"2. Space Shuttle\")\n",
        "seleccion = float(input(\"Selección :\"))\n",
        "\n",
        "if seleccion==1:\n",
        "\n",
        "    print(\"Se trabajara con el Set AirFoil:\")\n",
        "    data = pd.read_csv('/content/drive/My Drive/T_2_IA_22020/airfoil_self_noise.csv')\n",
        "    X, y = data.values[:, :-1], data.values[:, -1]\n",
        "\n",
        "    #El usuario selecciona los valores porcentuales de cantidad de datos para Entrenamiento y Pruebas\n",
        "    #Ejemplo, sí el usuario selecciona 25% para Entramiento, se sabe que el 75% restante es para Pruebas\n",
        "    #El usario ingresa el valor de la variable \"valor\"\n",
        "    print(\"Ingrese el valor porcentual del set de Datos para entrenamiento:\")\n",
        "    valor = float(input(\"Porcentaje :\"))\n",
        "    a,=y.shape\n",
        "    b,c=X.shape\n",
        "    d=1\n",
        "    tamaño=float(a)\n",
        "    ventrenamiento=int(tamaño*valor*0.01)\n",
        "    X_train=data.values[:ventrenamiento,:-1]\n",
        "    X_test=data.values[ventrenamiento:,:-1]\n",
        "    Y_train=data.values[:ventrenamiento,-1]\n",
        "    Y_test=data.values[ventrenamiento:,-1]\n",
        "\n",
        "    print(\"Se van a usar :\",ventrenamiento,\"Datos para train\")\n",
        "    print(\"Se van a usar :\",a-ventrenamiento,\"Datos para test\")\n",
        "    print(\"Cantidad de entradas:\", c-1)\n",
        "    print(\"Cantidad de salidas:\", d)\n",
        "    print(\"Vectores de trabajo:\", d)\n",
        "    print(X_train.shape,X_test.shape,Y_train.shape,Y_test.shape)\n",
        "\n",
        "else:\n",
        "\n",
        "    print(\"Se trabajara con el Set SpaceShuttle:\")\n",
        "    data = pd.read_csv('/content/drive/My Drive/T_2_IA_22020/o-ring-erosion-only.csv')\n",
        "    X, y = data.values[:, :-1], data.values[:, -1]\n",
        "\n",
        "    #El usuario selecciona los valores porcentuales de cantidad de datos para Entrenamiento y Pruebas\n",
        "    #Ejemplo, sí el usuario selecciona 25% para Entramiento, se sabe que el 75% restante es para Pruebas\n",
        "    #El usario ingresa el valor de la variable \"valor\"\n",
        "    print(\"Ingrese el valor porcentual del set de Datos para entrenamiento:\")\n",
        "    valor = float(input(\"Porcentaje :\"))\n",
        "\n",
        "    a,=y.shape\n",
        "    b,c=X.shape\n",
        "    d=1\n",
        "    tamaño=float(a)\n",
        "    ventrenamiento=int(tamaño*valor*0.01)\n",
        "    X_train=data.values[:ventrenamiento,:-1]\n",
        "    X_test=data.values[ventrenamiento:,:-1]\n",
        "    Y_train=data.values[:ventrenamiento,-1]\n",
        "    Y_test=data.values[ventrenamiento:,-1]\n",
        "\n",
        "    print(\"Se van a usar :\",ventrenamiento,\"Datos para train\")\n",
        "    print(\"Se van a usar :\",a-ventrenamiento,\"Datos para test\")\n",
        "    print(\"Cantidad de entradas:\", (c-1))\n",
        "    print(\"Cantidad de salidas:\", d)\n",
        "    print(\"Vectores de trabajo:\")\n",
        "    print(X_train.shape,X_test.shape,Y_train.shape,Y_test.shape)\n"
      ],
      "execution_count": 36,
      "outputs": [
        {
          "output_type": "stream",
          "text": [
            "Seleccione el set de Datos:\n",
            "1. Airfoil\n",
            "2. Space Shuttle\n",
            "Selección :2\n",
            "Se trabajara con el Set SpaceShuttle:\n",
            "Ingrese el valor porcentual del set de Datos para entrenamiento:\n",
            "Porcentaje :40\n",
            "Se van a usar : 8 Datos para train\n",
            "Se van a usar : 14 Datos para test\n",
            "Cantidad de entradas: 3\n",
            "Cantidad de salidas: 1\n",
            "Vectores de trabajo:\n",
            "(8, 4) (14, 4) (8,) (14,)\n"
          ],
          "name": "stdout"
        }
      ]
    },
    {
      "cell_type": "markdown",
      "metadata": {
        "id": "z0xxI__ozkP8"
      },
      "source": [
        "Ingresos del Usuario"
      ]
    },
    {
      "cell_type": "code",
      "metadata": {
        "id": "cgy1XI_Jzjwl",
        "outputId": "b95a5011-e3fe-4b2d-db07-afc1f387b79c",
        "colab": {
          "base_uri": "https://localhost:8080/",
          "height": 204
        }
      },
      "source": [
        "print(\"Selecciones del usuario\")\n",
        "print(\"-Seleccionar el número de neuronas en la capa oculta.\")\n",
        "neuronas_capaoculta=input(\"Valor :\")\n",
        "print(\"-Seleccionar el número de iteraciones.\")\n",
        "iteraciones=input(\"Valor :\")\n",
        "print(\"-Seleccionar la función de activación\")\n",
        "print(\"1. Relu\")\n",
        "print(\"2. Tangente Hiperbólica\")\n",
        "print(\"3. Sigmoide\")\n",
        "f_activación=input(\"Selección :\")\n",
        "print(\"...Los datos se han guardado correctamente...\")\n"
      ],
      "execution_count": 37,
      "outputs": [
        {
          "output_type": "stream",
          "text": [
            "Selecciones del usuario\n",
            "-Seleccionar el número de neuronas en la capa oculta.\n",
            "Valor :8\n",
            "-Seleccionar el número de iteraciones.\n",
            "Valor :200\n",
            "-Seleccionar la función de activación\n",
            "1. Relu\n",
            "2. Tangente Hiperbólica\n",
            "3. Sigmoide\n",
            "Selección :3\n",
            "...Los datos se han guardado correctamente...\n"
          ],
          "name": "stdout"
        }
      ]
    },
    {
      "cell_type": "markdown",
      "metadata": {
        "id": "eb26SDqXRNVG"
      },
      "source": [
        "Creación de la Neurona"
      ]
    },
    {
      "cell_type": "code",
      "metadata": {
        "id": "2gJ8aN3ERMyi"
      },
      "source": [
        "#La Neurona posee una salida que es la evaluación de la función de activación\n",
        "#Para este caso se tienen 3 Funciones de activación, por lo tanto pueden haber 3 tipos de Neuronas\n",
        "#net=sumadeproductos\n",
        "\n",
        "\n",
        "def Neurona(f_activación, net, sesgo):\n",
        "\n",
        "#tipo 1=Relu\n",
        "        if (f_activación==1):\n",
        "            if(net-sesgo>=0):\n",
        "              return (net-sesgo)\n",
        "            \n",
        "            else:\n",
        "              return 0        \n",
        "#tipo 2=Tangente Hiperbólica\n",
        "        if (f_activación==2):\n",
        "          y= (2/(1+(math.e)^(-2(net-sesgo))))-1\n",
        "          return y\n",
        "        \n",
        "#tipo 3=Sigmoide\n",
        "        if (f_activación==3):\n",
        "          y= (1/(1-(math.e)^(-(net-sesgo))))\n",
        "          return y\n",
        "    "
      ],
      "execution_count": null,
      "outputs": []
    },
    {
      "cell_type": "markdown",
      "metadata": {
        "id": "aP2Tb7xledzL"
      },
      "source": [
        "Tasa de Aprendizaje"
      ]
    },
    {
      "cell_type": "code",
      "metadata": {
        "id": "qSUn5UBlefpl",
        "outputId": "02cb4f88-2026-44a0-9d36-fa9190cb0743",
        "colab": {
          "base_uri": "https://localhost:8080/",
          "height": 119
        }
      },
      "source": [
        "# Las tasas de aprendizaje , se deciden de 3 formas\n",
        "\n",
        "print(\"Tasas de Aprendizaje\")\n",
        "print(\"-Seleccionar la opción :\")\n",
        "print(\"Tipo 1: Mismo valor para todos los pesos\")\n",
        "print(\"Tipo 2: Semi-aleatorio\")\n",
        "print(\"Tipo 3: Ingresado por el usuario\")\n",
        "tasadeaprendizaje=input(\"Selección :\")\n",
        "#tipo 1=mismo valor\n",
        "if (tasadeaprendizaje==1):\n",
        "  print(\"Mismo valor para todos los pesos\")\n",
        "  valorpesostodos=input(\"Valor :\")\n",
        "  print(\"...Los datos se han guardado correctamente...\")\n",
        "           \n",
        "                    \n",
        "#tipo 2=semi-aleatorio\n",
        "if (tasadeaprendizaje==2):\n",
        "  print(\"Semialeatorio...con un ruido de tipo gaussiano -máxima desviación 25 % del valor\")\n",
        "  valorsemialeatorio=input(\"Valor :\")\n",
        "  print(\"...Los datos se han guardado correctamente...\")\n",
        "          \n",
        "        \n",
        "#tipo 3=Ingresado por el usuario\n",
        "if (tasadeaprendizaje==3):\n",
        "  print(\"Ingrese el archivo de los pesos en la carpeta con el nombre: pesos.csv\")\n",
        "  data2 = pd.read_csv('/content/drive/My Drive/Tarea2_IA_22020/pesos.csv')\n",
        "  print(\"...Los datos se han guardado correctamente...\")\n",
        "\n"
      ],
      "execution_count": 47,
      "outputs": [
        {
          "output_type": "stream",
          "text": [
            "Tasas de Aprendizaje\n",
            "-Seleccionar la opción :\n",
            "Tipo 1: Mismo valor para todos los pesos\n",
            "Tipo 2: Semi-aleatorio\n",
            "Tipo 3: Ingresado por el usuario\n",
            "Selección :1\n"
          ],
          "name": "stdout"
        }
      ]
    },
    {
      "cell_type": "markdown",
      "metadata": {
        "id": "44l0Qn4SmiAc"
      },
      "source": [
        "Descenso de Gradiente"
      ]
    },
    {
      "cell_type": "code",
      "metadata": {
        "id": "UzdY5dM_mjhh"
      },
      "source": [
        "#L2"
      ],
      "execution_count": null,
      "outputs": []
    },
    {
      "cell_type": "markdown",
      "metadata": {
        "id": "YNFA2_E7YkG9"
      },
      "source": [
        "Creación de la Red"
      ]
    },
    {
      "cell_type": "code",
      "metadata": {
        "id": "PI0LtEwhYhRH"
      },
      "source": [
        "# Donde c = cantidad de entradas , d = cantidad de salidas\n",
        "# c se obtiene de los datos del CSV al igual que d\n",
        "#se va obtener una salida diferente por iteración, por lo tanto \n",
        "\n",
        "def Red(Neurona,Cantidad_Neuronas_Capa_Oculta,c,d,iteracion):\n",
        "\n",
        "#Entradas\n",
        "\n",
        "#Capa oculta\n",
        "\n",
        "#Salida\n",
        "  return"
      ],
      "execution_count": null,
      "outputs": []
    },
    {
      "cell_type": "markdown",
      "metadata": {
        "id": "kTxeHS3ULOj9"
      },
      "source": [
        "Proceso de creación del Modelo"
      ]
    },
    {
      "cell_type": "code",
      "metadata": {
        "id": "ZWhobyZeLRjN"
      },
      "source": [
        "#En base a la desición del usuario sobre el número de neuronas en la capa oculta\n",
        "\n",
        "#En base a la decisión del usuario sobre la tasa de aprendizaje\n",
        "\n",
        "#En base a las iteraciones "
      ],
      "execution_count": null,
      "outputs": []
    },
    {
      "cell_type": "markdown",
      "metadata": {
        "id": "a6hg4H5Zlzpi"
      },
      "source": [
        "Guardar configuracion de pesos durante el entrenamiento"
      ]
    },
    {
      "cell_type": "code",
      "metadata": {
        "id": "kNM8RAJR2R4s"
      },
      "source": [
        "#Escribir en un CSV los pesos del entrenamiento"
      ],
      "execution_count": null,
      "outputs": []
    },
    {
      "cell_type": "markdown",
      "metadata": {
        "id": "FSz02YyY2YBw"
      },
      "source": [
        "Entrenamiento"
      ]
    },
    {
      "cell_type": "code",
      "metadata": {
        "id": "ALAfQEvR2ZsZ"
      },
      "source": [
        "#Desarrollo Visual del entrenamiento"
      ],
      "execution_count": null,
      "outputs": []
    },
    {
      "cell_type": "markdown",
      "metadata": {
        "id": "z462_RDW2cmt"
      },
      "source": [
        "Curvas y Gráficas de Error y Entrenamiento"
      ]
    },
    {
      "cell_type": "code",
      "metadata": {
        "id": "FpS9BWy2lzID",
        "outputId": "f982689d-bee7-4d79-e8fb-bc7802add062",
        "colab": {
          "base_uri": "https://localhost:8080/",
          "height": 312
        }
      },
      "source": [
        "#Curvas de error\n",
        "pyplot.title('Curvas de entrenamiento')\n",
        "pyplot.xlabel('Epocas')\n",
        "pyplot.ylabel('Error')"
      ],
      "execution_count": null,
      "outputs": [
        {
          "output_type": "execute_result",
          "data": {
            "text/plain": [
              "Text(0, 0.5, 'Mean Squared Error')"
            ]
          },
          "metadata": {
            "tags": []
          },
          "execution_count": 6
        },
        {
          "output_type": "display_data",
          "data": {
            "image/png": "[encoded data removed]",
            "text/plain": [
              "<Figure size 432x288 with 1 Axes>"
            ]
          },
          "metadata": {
            "tags": [],
            "needs_background": "light"
          }
        }
      ]
    },
    {
      "cell_type": "markdown",
      "metadata": {
        "id": "MzOuXL-z2hJj"
      },
      "source": [
        "Exportación de Archivos de Salida"
      ]
    },
    {
      "cell_type": "code",
      "metadata": {
        "id": "ikpQydrB2gnM"
      },
      "source": [
        "#Guardar dataframe como un nuevo csv\n",
        "result_data.to_csv('ResultadodePrueba_1.csv')"
      ],
      "execution_count": null,
      "outputs": []
    }
  ]
}